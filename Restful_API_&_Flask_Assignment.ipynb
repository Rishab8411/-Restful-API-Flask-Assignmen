{
  "nbformat": 4,
  "nbformat_minor": 0,
  "metadata": {
    "colab": {
      "provenance": []
    },
    "kernelspec": {
      "name": "python3",
      "display_name": "Python 3"
    },
    "language_info": {
      "name": "python"
    }
  },
  "cells": [
    {
      "cell_type": "markdown",
      "source": [
        "# **Restful API & Flask**\n",
        "\n",
        "---\n",
        "\n"
      ],
      "metadata": {
        "id": "FnTwLEVrvLVh"
      }
    },
    {
      "cell_type": "markdown",
      "source": [
        "1. What is a RESTful API?\n",
        "    - A RESTful API is a way for two applications to talk to each other using the internet. It follows the REST (Representational State Transfer) rules, which means it uses HTTP methods like GET, POST, PUT, and DELETE to perform actions on data. It’s popular because it’s simple and works well with web apps.\n",
        "\n",
        "2. Explain the concept of API specification?\n",
        "    - An API specification is like a detailed guide that explains how an API works. It tells developers what endpoints are available, what methods to use, what data to send or receive, and what kind of response to expect. It’s useful because it keeps everything clear when different people are working with the same API.\n",
        "\n",
        "3. What is Flask, and why is it popular for building APIs?\n",
        "    - Flask is a lightweight Python web framework that makes it easy to build web apps and APIs. It’s popular because it’s simple, flexible, and doesn’t come with a lot of extra stuff. You can start small and add features as needed, which is great for learning or quick projects.\n",
        "\n",
        "4. What is routing in Flask?\n",
        "    - Routing in Flask means connecting a URL to a specific function. For example, when someone goes to /home, Flask knows which function should run and what content to show. It helps in organizing different pages or API endpoints in a web app.\n",
        "\n",
        "5. How do you create a simple Flask application?\n",
        "    - To create a basic Flask app, first you install Flask using pip."
      ],
      "metadata": {
        "id": "pfTGKW5tvWB1"
      }
    },
    {
      "cell_type": "markdown",
      "source": [
        "from flask import Flask  \n",
        "app = Flask(__name__)  \n",
        "\n",
        "@app.route('/')  \n",
        "def home():  \n",
        "    return \"Hello, Flask!\"\n",
        "\n",
        "app.run()\n"
      ],
      "metadata": {
        "id": "9OGXh6dowMNm"
      }
    },
    {
      "cell_type": "markdown",
      "source": [
        "6. What are HTTP methods used in RESTful APIs?\n",
        "    - The common HTTP methods are:\n",
        "\n",
        "    - GET – to get data\n",
        "\n",
        "    - POST – to send new data\n",
        "\n",
        "    - PUT – to update data\n",
        "\n",
        "    - DELETE – to remove data\n",
        "    - Each method has its own purpose, and they are used to interact with resources through an API.\n",
        "\n",
        "7. What is the purpose of the @app.route() decorator in Flask?\n",
        "    - The @app.route() decorator tells Flask which URL should run a specific function. It connects a route (like /about) with the function that should be triggered when someone visits that route. It’s an easy way to manage different pages or endpoints.\n",
        "\n",
        "8. What is the difference between GET and POST HTTP methods?\n",
        "    - GET is used to request or fetch data. You usually use it when you want to see something.\n",
        "     POST is used to send or submit new data to the server, like filling out a form or creating something new.\n",
        "     GET adds data in the URL, but POST sends it in the body (so it’s more secure for sensitive data).\n",
        "\n",
        "9. How do you handle errors in Flask APIs?\n",
        "    - In Flask, you can handle errors using the @app.errorhandler() decorator. It lets you customize the message or response when something goes wrong, like a 404 (page not found) or 500 (server error). You can also use try-except blocks in your code to catch and manage errors safely.\n",
        "\n",
        "10. How do you connect Flask to a SQL database?\n",
        "    - To connect Flask with a SQL database, you can use extensions like Flask-SQLAlchemy. First, you install it, then configure the database URI in your Flask app, and use models to interact with tables. It lets you perform things like insert, update, delete, and query easily.\n",
        "\n",
        "11. What is the role of Flask-SQLAlchemy?\n",
        "    - Flask-SQLAlchemy is an extension that helps Flask connect with SQL databases more easily. It lets you use Python classes to represent database tables, and then you can do things like add, update, delete, and query data using simple Python code instead of writing raw SQL.\n",
        "\n",
        "12. What are Flask blueprints, and how are they useful?\n",
        "    - Blueprints in Flask help you organize your app into smaller parts or modules. If you’re building a big project, it’s better to keep the code for different features in separate files using blueprints. It makes your project clean, manageable, and reusable.\n",
        "\n",
        "13. What is the purpose of Flask's request object?\n",
        "    - The request object in Flask is used to access data sent from the client, like form data, query parameters, or JSON. For example, in a POST request, you can use request.form or request.json to get the data the user submitted.\n",
        "\n",
        "14. How do you create a RESTful API endpoint using Flask?\n",
        "    - To create a RESTful API endpoint in Flask, you define a route using @app.route() and then write a function to handle the request"
      ],
      "metadata": {
        "id": "G8DPgvvMwPWO"
      }
    },
    {
      "cell_type": "code",
      "source": [
        "@app.route('/api/data', methods=['GET'])\n",
        "def get_data():\n",
        "    return jsonify({\"message\": \"Data fetched!\"})\n"
      ],
      "metadata": {
        "id": "0vOOUMu1wbVf"
      },
      "execution_count": 4,
      "outputs": []
    },
    {
      "cell_type": "markdown",
      "source": [
        "15. What is the purpose of Flask's jsonify() function?\n",
        "    - jsonify() is used to return data in JSON format from a Flask API. JSON is the standard way of sending data in APIs, and jsonify() also sets the correct headers automatically so the client knows the response is JSON.\n",
        "\n",
        "16. Explain Flask’s url_for() function?\n",
        "    - url_for() is a helper function that creates URLs for your routes using the function name. It’s useful because even if you change the actual route later, url_for() will still generate the correct link based on the function name. It helps avoid hardcoding URLs.\n",
        "\n",
        "17. How does Flask handle static files (CSS, JavaScript, etc.)?\n",
        "    - Flask automatically looks for static files like CSS, JS, and images inside a folder named static. You can place your files there and access them using the /static/ path in your HTML. For example: <link rel=\"stylesheet\" href=\"/static/style.css\">.\n",
        "\n",
        "18. What is an API specification, and how does it help in building a Flask API?\n",
        "    - An API specification explains how the API should work — what endpoints exist, what methods are allowed, what data is required, and what responses are expected. It’s super helpful because it keeps things clear for both backend and frontend developers, and helps avoid confusion while building the API.\n",
        "\n",
        "19. What are HTTP status codes, and why are they important in a Flask API?\n",
        "    - HTTP status codes tell the client whether a request was successful or not. For example, 200 means OK, 404 means not found, 500 means server error, and so on. In Flask APIs, sending proper status codes helps the client understand what happened during the request.\n",
        "\n",
        "20. How do you handle POST requests in Flask?\n",
        "    - To handle a POST request, you define the route with methods=['POST'] and use request.form or request.json to get the submitted data."
      ],
      "metadata": {
        "id": "5aG1YMM5wkuS"
      }
    },
    {
      "cell_type": "code",
      "source": [
        "@app.route('/submit', methods=['POST'])\n",
        "def submit():\n",
        "    data = request.json\n",
        "    return jsonify({\"received\": data})\n"
      ],
      "metadata": {
        "id": "HEPG0ALuwr4K"
      },
      "execution_count": null,
      "outputs": []
    },
    {
      "cell_type": "markdown",
      "source": [
        "21. How would you secure a Flask API?\n",
        "    - To secure a Flask API, you can:\n",
        "    - Use authentication (like API keys, tokens, or JWT)\n",
        "    - Validate and sanitize user input\n",
        "    - Use HTTPS for secure data transfer\n",
        "    - Handle errors properly to avoid exposing sensitive info\n",
        "    - Rate limit requests to prevent abuse\n",
        "\n",
        "22. What is the significance of the Flask-RESTful extension?\n",
        "    - Flask-RESTful is a handy extension that makes building REST APIs even easier in Flask. It gives you a cleaner structure with classes for resources and handles common things like request parsing, error handling, and responses out of the box.\n",
        "\n",
        "23. What is the role of Flask’s session object?\n",
        "    - Flask’s session object lets you store information about the user across requests, like login status or user preferences. It works like a dictionary and is stored on the server (or in a cookie with encryption), so it’s safe and easy to use for small pieces of user data."
      ],
      "metadata": {
        "id": "kH3cn3Rlwuew"
      }
    },
    {
      "cell_type": "markdown",
      "source": [
        "# **Practical**\n",
        "\n",
        "---\n",
        "\n"
      ],
      "metadata": {
        "id": "AZRoM2-yxmok"
      }
    },
    {
      "cell_type": "markdown",
      "source": [
        "1. How do you create a basic Flask application?"
      ],
      "metadata": {
        "id": "Ab9IMhDnxuKm"
      }
    },
    {
      "cell_type": "code",
      "source": [
        "from flask import Flask\n",
        "\n",
        "app = Flask(__name__)\n",
        "\n",
        "@app.route('/')\n",
        "def home():\n",
        "    return \"Hello, Flask!\"\n",
        "\n",
        "if __name__ == '__main__':\n",
        "    app.run()\n"
      ],
      "metadata": {
        "id": "RGZLo_7hx62q"
      },
      "execution_count": null,
      "outputs": []
    },
    {
      "cell_type": "markdown",
      "source": [
        "2. How do you serve static files like images or CSS in Flask?\n",
        "    - Flask automatically serves static files from a folder named static. You can place your CSS, images, or JavaScript there and use it like this in your HTML:"
      ],
      "metadata": {
        "id": "Nq-B3uIlx77f"
      }
    },
    {
      "cell_type": "code",
      "source": [
        "<link rel=\"stylesheet\" href=\"{{ url_for('static', filename='style.css') }}\">\n"
      ],
      "metadata": {
        "id": "6ACQ1KgNzIja"
      },
      "execution_count": null,
      "outputs": []
    },
    {
      "cell_type": "markdown",
      "source": [
        "3. How do you define different routes with different HTTP methods in Flask?"
      ],
      "metadata": {
        "id": "7CgauBs1zODo"
      }
    },
    {
      "cell_type": "code",
      "source": [
        "@app.route('/submit', methods=['GET', 'POST'])\n",
        "def submit():\n",
        "    if request.method == 'POST':\n",
        "        return \"Form submitted!\"\n",
        "    return \"Form page\"\n"
      ],
      "metadata": {
        "id": "I-7GdPrEzR8J"
      },
      "execution_count": 11,
      "outputs": []
    },
    {
      "cell_type": "markdown",
      "source": [
        "4. How do you render HTML templates in Flask?\n",
        "    - Flask uses the Jinja template engine. You need to keep your HTML files in a folder named templates and use render_template() to display them:"
      ],
      "metadata": {
        "id": "x5qAm8YOzV52"
      }
    },
    {
      "cell_type": "code",
      "source": [
        "from flask import render_template\n",
        "\n",
        "@app.route('/')\n",
        "def home():\n",
        "    return render_template('index.html')\n"
      ],
      "metadata": {
        "id": "i8qeT4N8zdhQ"
      },
      "execution_count": null,
      "outputs": []
    },
    {
      "cell_type": "markdown",
      "source": [
        "5. How can you generate URLs for routes in Flask using url_for?\n",
        "    - You can use url_for() to dynamically get the URL for any function linked to a route:"
      ],
      "metadata": {
        "id": "axDU0Py9zeR3"
      }
    },
    {
      "cell_type": "code",
      "source": [
        "url_for('home')  # If you have a route function named 'home'\n"
      ],
      "metadata": {
        "id": "13SoEaMszvEP"
      },
      "execution_count": null,
      "outputs": []
    },
    {
      "cell_type": "markdown",
      "source": [
        "6. How do you handle forms in Flask?\n",
        "    - You can handle forms by using the request object:"
      ],
      "metadata": {
        "id": "Xre-9s9szxE_"
      }
    },
    {
      "cell_type": "code",
      "source": [
        "@app.route('/login', methods=['POST'])\n",
        "def login():\n",
        "    username = request.form['username']\n",
        "    return f\"Welcome, {username}\"\n"
      ],
      "metadata": {
        "id": "PrI3nSLTz1kb"
      },
      "execution_count": 15,
      "outputs": []
    },
    {
      "cell_type": "markdown",
      "source": [
        "7. How can you validate form data in Flask?\n",
        "    - You can manually check if fields are empty or use libraries like WTForms. Here’s a simple manual check"
      ],
      "metadata": {
        "id": "bRG8HI7Lz4zz"
      }
    },
    {
      "cell_type": "code",
      "source": [
        "@app.route('/submit', methods=['POST'])\n",
        "def submit():\n",
        "    name = request.form.get('name')\n",
        "    if not name:\n",
        "        return \"Name is required\"\n",
        "    return f\"Hello {name}\"\n"
      ],
      "metadata": {
        "id": "39xQi0nmz8mB"
      },
      "execution_count": 16,
      "outputs": []
    },
    {
      "cell_type": "markdown",
      "source": [
        "8. How do you manage sessions in Flask?\n",
        "    - You can use Flask’s session object to store user data between requests:"
      ],
      "metadata": {
        "id": "gz4R90vDz_QF"
      }
    },
    {
      "cell_type": "code",
      "source": [
        "from flask import session\n",
        "\n",
        "@app.route('/set/')\n",
        "def set_session():\n",
        "    session['user'] = 'Rishab'\n",
        "    return \"Session set\"\n",
        "\n",
        "@app.route('/get/')\n",
        "def get_session():\n",
        "    return session.get('user', 'No session found')\n"
      ],
      "metadata": {
        "id": "GlS7s00g0GlB"
      },
      "execution_count": 17,
      "outputs": []
    },
    {
      "cell_type": "markdown",
      "source": [
        "9. How do you redirect to a different route in Flask?\n",
        "    - Use redirect() along with url_for():"
      ],
      "metadata": {
        "id": "kZtofxhL0IMq"
      }
    },
    {
      "cell_type": "code",
      "source": [
        "from flask import redirect, url_for\n",
        "\n",
        "@app.route('/old')\n",
        "def old():\n",
        "    return redirect(url_for('new'))\n",
        "\n",
        "@app.route('/new')\n",
        "def new():\n",
        "    return \"New page\"\n"
      ],
      "metadata": {
        "id": "bItU7QK20Ni7"
      },
      "execution_count": 18,
      "outputs": []
    },
    {
      "cell_type": "markdown",
      "source": [
        "10. How do you handle errors in Flask (e.g., 404)?\n",
        "    - You can use the @app.errorhandler() decorator to create custom error pages:"
      ],
      "metadata": {
        "id": "hwNuJvrv0RSs"
      }
    },
    {
      "cell_type": "code",
      "source": [
        "@app.errorhandler(404)\n",
        "def page_not_found(e):\n",
        "    return \"Sorry, page not found!\", 404\n"
      ],
      "metadata": {
        "id": "a-PjFjQB0Vez"
      },
      "execution_count": 19,
      "outputs": []
    },
    {
      "cell_type": "markdown",
      "source": [
        "11. How do you structure a Flask app using Blueprints?\n",
        "    - Blueprints help organize a large app"
      ],
      "metadata": {
        "id": "-ZSzXXQJ0Xie"
      }
    },
    {
      "cell_type": "code",
      "source": [
        "# In user.py\n",
        "from flask import Blueprint\n",
        "\n",
        "user_bp = Blueprint('user', __name__)\n",
        "\n",
        "@user_bp.route('/profile')\n",
        "def profile():\n",
        "    return \"User profile\"\n",
        "\n",
        "# In main app\n",
        "from user import user_bp\n",
        "app.register_blueprint(user_bp)\n"
      ],
      "metadata": {
        "id": "nWaJmxSn0gC2"
      },
      "execution_count": null,
      "outputs": []
    },
    {
      "cell_type": "markdown",
      "source": [
        "12. How do you define a custom Jinja filter in Flask?\n",
        "    - You can make your own Jinja filter like this:"
      ],
      "metadata": {
        "id": "gyPyHaMw0hYe"
      }
    },
    {
      "cell_type": "code",
      "source": [
        "@app.template_filter('capitalize_all')\n",
        "def capitalize_all(s):\n",
        "    return s.upper()\n"
      ],
      "metadata": {
        "id": "Fzadxdz30k5V"
      },
      "execution_count": 21,
      "outputs": []
    },
    {
      "cell_type": "markdown",
      "source": [
        "13. How can you redirect with query parameters in Flask?\n",
        "    - You can pass query parameters in url_for() like this:"
      ],
      "metadata": {
        "id": "OTkuazT-0pLv"
      }
    },
    {
      "cell_type": "code",
      "source": [
        "return  redirect(url_for('search', q='flask'))\n",
        "# And in the route:\n",
        "@app.route('/search')\n",
        "def search():\n",
        "    query = request.args.get('q')\n",
        "    return f\"You searched for {query}\"\n"
      ],
      "metadata": {
        "id": "JKHF8A-70tBo"
      },
      "execution_count": null,
      "outputs": []
    },
    {
      "cell_type": "markdown",
      "source": [
        "14. How do you return JSON responses in Flask?\n",
        "    - Use jsonify() to return JSON data:"
      ],
      "metadata": {
        "id": "28DZU6zR07cZ"
      }
    },
    {
      "cell_type": "code",
      "source": [
        "from flask import jsonify\n",
        "\n",
        "@app.route('/api')\n",
        "def api():\n",
        "    return jsonify({\"name\": \"Rishab\", \"course\": \"DS & AI\"})\n"
      ],
      "metadata": {
        "id": "xhivEz_b0_NU"
      },
      "execution_count": 22,
      "outputs": []
    },
    {
      "cell_type": "markdown",
      "source": [
        "15. How do you capture URL parameters in Flask?\n",
        "    - You can capture parts of the URL using angle brackets:"
      ],
      "metadata": {
        "id": "8BQgXBp71CUR"
      }
    },
    {
      "cell_type": "code",
      "source": [
        "@app.route('/user/<username>')\n",
        "def show_user(username):\n",
        "    return f\"Hello, {username}\"\n"
      ],
      "metadata": {
        "id": "IHqipxQa1GvP"
      },
      "execution_count": 23,
      "outputs": []
    }
  ]
}